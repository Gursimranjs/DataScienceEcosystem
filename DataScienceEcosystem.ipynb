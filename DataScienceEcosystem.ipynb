{
  "metadata": {
    "kernelspec": {
      "name": "python",
      "display_name": "Python (Pyodide)",
      "language": "python"
    },
    "language_info": {
      "codemirror_mode": {
        "name": "python",
        "version": 3
      },
      "file_extension": ".py",
      "mimetype": "text/x-python",
      "name": "python",
      "nbconvert_exporter": "python",
      "pygments_lexer": "ipython3",
      "version": "3.8"
    }
  },
  "nbformat_minor": 5,
  "nbformat": 4,
  "cells": [
    {
      "id": "474b62ea-ae10-4ff2-948d-2d4d17fc0181",
      "cell_type": "markdown",
      "source": "# Data Science Tools and Ecosystem\nIn this notebook, Data Science Tools and Ecosystem are summarized.\n\n",
      "metadata": {}
    },
    {
      "id": "d9313e4f-26c7-4252-89a6-c997c9e3c170",
      "cell_type": "markdown",
      "source": "## Some of the popular languages that Data Scientists use are:\n\n1. Python\n2. R\n3. Java",
      "metadata": {}
    },
    {
      "id": "b729a8b8-d857-4c74-adb5-00235c2daa96",
      "cell_type": "markdown",
      "source": "## Some of the commonly used libraries used by Data Scientists include:\n1. Pandas\n2. Matplotlib\n3. NumPy",
      "metadata": {}
    },
    {
      "id": "8f66c80e-6c85-41d3-afb0-f1f56fa2dfb0",
      "cell_type": "markdown",
      "source": "**Objectives: List popular languages for Data Science**\n* Python\n* R\n* Java",
      "metadata": {}
    },
    {
      "id": "b0aeee34-d866-41b6-b4d3-47623db71074",
      "cell_type": "markdown",
      "source": "| Data Science Tools|\n|-------------------|\n|JupyterLab         |\n|R                  |\n|Python             |",
      "metadata": {}
    },
    {
      "id": "32d921e3-534b-4e75-ba7e-bd1dd0b9d1eb",
      "cell_type": "markdown",
      "source": "### Below are a few examples of evaluating arithmetic expressions in Python\n",
      "metadata": {}
    },
    {
      "id": "30c7fbe0-59dc-4117-8dd0-470bbaf8fa9a",
      "cell_type": "code",
      "source": "\n #This a simple arithmetic expression to mutiply then add integers: \n(3*4)+5",
      "metadata": {
        "trusted": true
      },
      "outputs": [
        {
          "execution_count": 1,
          "output_type": "execute_result",
          "data": {
            "text/plain": "17"
          },
          "metadata": {}
        }
      ],
      "execution_count": 1
    },
    {
      "id": "841e7267-a09f-4eac-86e3-42cffead026a",
      "cell_type": "code",
      "source": "#This will convert 200 minutes to hours by diving by 60\nMinutes= 200\nHours=Minutes/60\nprint(Hours)",
      "metadata": {
        "trusted": true
      },
      "outputs": [
        {
          "name": "stdout",
          "output_type": "stream",
          "text": "3.3333333333333335\n"
        }
      ],
      "execution_count": 4
    },
    {
      "id": "aedc9e03-aea5-43b0-8722-2fa86825879e",
      "cell_type": "markdown",
      "source": "## Author: Gursimranjeet Singh",
      "metadata": {}
    }
  ]
}